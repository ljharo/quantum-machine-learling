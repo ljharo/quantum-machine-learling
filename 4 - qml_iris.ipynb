{
 "cells": [
  {
   "cell_type": "code",
   "execution_count": null,
   "metadata": {},
   "outputs": [],
   "source": [
    "import numpy as np\n",
    "import matplotlib.pyplot as plt\n",
    "from scipy.optimize import minimize\n",
    "from sklearn.metrics import accuracy_score\n",
    "import qiskit.quantum_info as qiskit_quantum_info\n",
    "\n",
    "from src.scripts.iris import X_train, y_train, X\n",
    "from src.scripts.qmlmodel import rescale_to_angle, make_circuit, predict, loss"
   ]
  },
  {
   "cell_type": "code",
   "execution_count": null,
   "metadata": {},
   "outputs": [],
   "source": [
    "\n",
    "NBQUBITS = 2\n",
    "x = np.random.rand(4)*np.pi*2\n",
    "nb_params = 4\n",
    "t= np.random.rand(nb_params)*np.pi*2\n",
    "qc = make_circuit(x,t)\n",
    "\n",
    "stateVec = qiskit_quantum_info.Statevector.from_instruction(qc)\n",
    "probavec = stateVec.probabilities()\n",
    "print(probavec)\n",
    "print(probavec[:-1])\n",
    "print(probavec[:-1].argmax())\n",
    "\n",
    "labels=['00','10','01','11']\n",
    "\n",
    "plt.bar(range(4), probavec)\n",
    "plt.xticks(range(4),labels=labels)\n",
    "qc.draw(output='mpl')"
   ]
  },
  {
   "cell_type": "code",
   "execution_count": null,
   "metadata": {},
   "outputs": [],
   "source": [
    "# print(np.max(iris.dataset.data, axis=0))\n",
    "# iris.dataset.feature_names\n",
    "\n",
    "X_train = rescale_to_angle(X_train, X)\n",
    "# print(qmlmodel.loss(t,X_train,y_train))\n",
    "\n",
    "def objective_function(t):\n",
    "    return loss(t,X_train,y_train)\n",
    "\n",
    "for seed in range(50):\n",
    "    np.random.seed(seed)\n",
    "    t0= np.random.rand(4)*np.pi*2\n",
    "\n",
    "    result = minimize(objective_function, t0, method='COBYLA')\n",
    "\n",
    "    y_pred = predict(X_train, result.x)\n",
    "    accuracy = accuracy_score(y_train, y_pred)\n",
    "\n",
    "    print( f\"Accuracy on training set: {accuracy*100:.2f}%\")"
   ]
  }
 ],
 "metadata": {
  "kernelspec": {
   "display_name": ".venv",
   "language": "python",
   "name": "python3"
  },
  "language_info": {
   "codemirror_mode": {
    "name": "ipython",
    "version": 3
   },
   "file_extension": ".py",
   "mimetype": "text/x-python",
   "name": "python",
   "nbconvert_exporter": "python",
   "pygments_lexer": "ipython3",
   "version": "3.13.2"
  }
 },
 "nbformat": 4,
 "nbformat_minor": 2
}
